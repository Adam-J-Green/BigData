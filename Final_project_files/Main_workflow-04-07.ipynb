{
  "cells": [
    {
      "cell_type": "code",
      "execution_count": null,
      "id": "9705971d",
      "metadata": {
        "id": "9705971d",
        "outputId": "26fe27b6-c0fa-4d9d-86de-3aa512cf8fff"
      },
      "outputs": [
        {
          "name": "stdout",
          "output_type": "stream",
          "text": [
            "23/04/03 20:18:39 WARN Utils: Your hostname, cis6180 resolves to a loopback address: 127.0.1.1; using 10.0.2.15 instead (on interface enp0s3)\n",
            "23/04/03 20:18:39 WARN Utils: Set SPARK_LOCAL_IP if you need to bind to another address\n",
            "23/04/03 20:18:40 WARN NativeCodeLoader: Unable to load native-hadoop library for your platform... using builtin-java classes where applicable\n"
          ]
        },
        {
          "name": "stderr",
          "output_type": "stream",
          "text": [
            "Setting default log level to \"WARN\".\n",
            "To adjust logging level use sc.setLogLevel(newLevel). For SparkR, use setLogLevel(newLevel).\n"
          ]
        }
      ],
      "source": [
        "import pandas as pd\n",
        "import csv\n",
        "import datetime\n",
        "import yfinance as yf\n",
        "import numpy as np\n",
        "from vaderSentiment.vaderSentiment import SentimentIntensityAnalyzer\n",
        "from bs4 import BeautifulSoup as bs\n",
        "import requests\n",
        "from pyspark.sql.functions import sum,max,min,mean,count\n",
        "import datetime as dt\n",
        "import pyspark\n",
        "from pyspark.sql import SparkSession\n",
        "import findspark\n",
        "import yaml\n",
        "from yaml.loader import SafeLoader\n",
        "from os.path import abspath\n",
        "\n",
        "warehouse_location = abspath('spark-warehouse')\n",
        "with open('cfg.yml') as f:\n",
        "    config = yaml.load(f, Loader = SafeLoader)\n",
        "\n",
        "    #create spark connection\n",
        "findspark.init()\n",
        "spark = SparkSession.builder \\\n",
        "    .master(config['spark']['spark_master'])\\\n",
        "    .appName('retrieve')\\\n",
        "    .enableHiveSupport()\\\n",
        "    .config('spark.sql.warehouse.dir', warehouse_location)\\\n",
        "    .config(config['spark']['spark_jars'], config['spark']['spark_jars_path'])\\\n",
        "    .config('spark.cores.max', '2')\\\n",
        "    .config('spark.executor.cores', '2')\\\n",
        "    .getOrCreate()\n",
        "spark.sparkContext.setLogLevel(\"WARN\")\n",
        "spark\n",
        "\n",
        "#create database config details\n",
        "url = config['postgres']['url']\n",
        "properties = {\n",
        "    'user': config['postgres']['user'],\n",
        "    'password' : config['postgres']['user'],\n",
        "    'url': url,\n",
        "    'driver': config['postgres']['driver']\n",
        "    \n",
        "}"
      ]
    },
    {
      "cell_type": "code",
      "source": [
        "from google.colab import drive\n",
        "drive.mount('/content/drive')"
      ],
      "metadata": {
        "id": "uoO7JaxWDoUo",
        "outputId": "e188c8b0-f788-4930-b031-39c6f552e2c7",
        "colab": {
          "base_uri": "https://localhost:8080/"
        }
      },
      "id": "uoO7JaxWDoUo",
      "execution_count": 2,
      "outputs": [
        {
          "output_type": "stream",
          "name": "stdout",
          "text": [
            "Mounted at /content/drive\n"
          ]
        }
      ]
    },
    {
      "cell_type": "markdown",
      "id": "4c295390",
      "metadata": {
        "id": "4c295390"
      },
      "source": [
        "# Retrieve Data from Database and Write to Csv"
      ]
    },
    {
      "cell_type": "code",
      "execution_count": null,
      "id": "228f7615",
      "metadata": {
        "id": "228f7615",
        "outputId": "6af5c49d-d6c5-422c-bc1a-bef62951e26d"
      },
      "outputs": [
        {
          "name": "stdout",
          "output_type": "stream",
          "text": [
            "2799\n",
            "MSFT (2520, 20)\n",
            "           ticker        open        high         low       close   adj_close  \\\n",
            "date                                                                            \n",
            "2016-01-04   MSFT   54.320000   54.799999   53.389999   54.799999   49.007942   \n",
            "2016-01-05   MSFT   54.930000   55.389999   54.540001   55.049999   49.231529   \n",
            "2016-01-06   MSFT   54.320000   54.400002   53.639999   54.049999   48.337219   \n",
            "2016-01-07   MSFT   52.700001   53.490002   52.070000   52.169998   46.655922   \n",
            "2016-01-08   MSFT   52.369999   53.279999   52.150002   52.330002   46.799007   \n",
            "...           ...         ...         ...         ...         ...         ...   \n",
            "2023-02-23   MSFT  255.559998  256.839996  250.479996  254.770004  254.770004   \n",
            "2023-02-24   MSFT  249.960007  251.000000  248.100006  249.220001  249.220001   \n",
            "2023-02-27   MSFT  252.460007  252.820007  249.389999  250.160004  250.160004   \n",
            "2023-02-28   MSFT  249.070007  251.490005  248.729996  249.419998  249.419998   \n",
            "2023-03-01   MSFT  250.759995  250.929993  245.789993  246.270004  246.270004   \n",
            "\n",
            "              volume      target      tenmda   twentymda    fiftymda  \\\n",
            "date                                                                   \n",
            "2016-01-04  53778000   54.799999   55.489000   55.444000   54.400600   \n",
            "2016-01-05  34079700   55.049999   55.581000   55.401000   54.541000   \n",
            "2016-01-06  39518900   54.049999   55.502999   55.313000   54.564600   \n",
            "2016-01-07  56564900   52.169998   55.184999   55.132000   54.523000   \n",
            "2016-01-08  48754000   52.330002   54.836000   54.999500   54.495800   \n",
            "...              ...         ...         ...         ...         ...   \n",
            "2023-02-23  29219100  254.770004  261.869002  258.606502  246.946801   \n",
            "2023-02-24  24990900  249.220001  260.429002  258.667502  246.881001   \n",
            "2023-02-27  21190000  250.160004  259.135002  258.767502  246.745800   \n",
            "2023-02-28  22491000  249.419998  256.945001  259.103001  246.589800   \n",
            "2023-03-01  27565300  246.270004  254.355000  259.026002  246.535001   \n",
            "\n",
            "            hundredmda     EWMA_20     EWMA_50    EWMA_100        rsi  \\\n",
            "date                                                                    \n",
            "2016-01-04     49.6403   55.271718   53.631678   51.244243  48.916948   \n",
            "2016-01-05     49.7234   55.250602   53.687299   51.319662  50.548131   \n",
            "2016-01-06     49.7966   55.136259   53.701522   51.373769  44.435840   \n",
            "2016-01-07     49.8483   54.853758   53.641463   51.389547  35.696682   \n",
            "2016-01-08     49.8984   54.613400   53.590033   51.408183  36.835272   \n",
            "...                ...         ...         ...         ...        ...   \n",
            "2023-02-23    242.8306  256.613852  250.485694  249.342612  50.086872   \n",
            "2023-02-24    242.9938  255.909676  250.436059  249.340184  45.300658   \n",
            "2023-02-27    243.0880  255.362088  250.425234  249.356418  46.237716   \n",
            "2023-02-28    243.0934  254.796174  250.385813  249.357677  45.575790   \n",
            "2023-03-01    243.0641  253.984158  250.224408  249.296535  42.769052   \n",
            "\n",
            "            MiddleBand   UpperBand   LowerBand  sent_score  \n",
            "date                                                        \n",
            "2016-01-04   54.735500   56.657358   52.813642      1.5528  \n",
            "2016-01-05   54.752250   56.673075   52.831425      0.0000  \n",
            "2016-01-06   54.730500   56.663198   52.797802      1.4242  \n",
            "2016-01-07   54.680750   56.769820   52.591680      0.4588  \n",
            "2016-01-08   54.651250   56.839134   52.463366      0.0000  \n",
            "...                ...         ...         ...         ...  \n",
            "2023-02-23  247.084751  274.727319  219.442182     37.2666  \n",
            "2023-02-24  247.391251  274.844482  219.938019     -3.7912  \n",
            "2023-02-27  247.782001  274.927432  220.636569      0.2864  \n",
            "2023-02-28  247.992251  275.052641  220.931861      3.0316  \n",
            "2023-03-01  248.153501  275.090695  221.216306      4.9305  \n",
            "\n",
            "[1802 rows x 20 columns]\n",
            "2347\n",
            "GOOG (2068, 20)\n",
            "           ticker       open       high        low      close  adj_close  \\\n",
            "date                                                                       \n",
            "2016-01-04   GOOG  37.150002  37.202999  36.562901  37.091999  37.091999   \n",
            "2016-01-05   GOOG  37.322498  37.599998  36.931999  37.129002  37.129002   \n",
            "2016-01-06   GOOG  36.500000  37.359001  36.445999  37.181000  37.181000   \n",
            "2016-01-07   GOOG  36.515499  36.924999  35.952999  36.319500  36.319500   \n",
            "2016-01-08   GOOG  36.572498  36.661499  35.650002  35.723499  35.723499   \n",
            "...           ...        ...        ...        ...        ...        ...   \n",
            "2023-02-23   GOOG  92.129997  92.129997  90.010002  91.070000  91.070000   \n",
            "2023-02-24   GOOG  89.629997  90.129997  88.860001  89.349998  89.349998   \n",
            "2023-02-27   GOOG  90.089996  90.449997  89.610001  90.099998  90.099998   \n",
            "2023-02-28   GOOG  89.540001  91.449997  89.519997  90.300003  90.300003   \n",
            "2023-03-01   GOOG  90.160004  91.199997  89.849998  90.510002  90.510002   \n",
            "\n",
            "              volume     target     tenmda  twentymda  fiftymda  hundredmda  \\\n",
            "date                                                                          \n",
            "2016-01-04  65456000  37.091999  37.733100  37.694200  36.98315   34.269975   \n",
            "2016-01-05  39014000  37.129002  37.749450  37.633625  37.07394   34.311485   \n",
            "2016-01-06  38940000  37.181000  37.728700  37.584550  37.11556   34.355070   \n",
            "2016-01-07  59274000  36.319500  37.610650  37.494600  37.12917   34.389705   \n",
            "2016-01-08  49018000  35.723499  37.431450  37.401750  37.13515   34.416505   \n",
            "...              ...        ...        ...        ...       ...         ...   \n",
            "2023-02-23  32423700  91.070000  94.266000  98.365500  94.31780   95.586000   \n",
            "2023-02-24  31295600  89.349998  93.655000  97.875000  94.23360   95.518000   \n",
            "2023-02-27  22724300  90.099998  93.178999  97.344500  94.11860   95.426000   \n",
            "2023-02-28  30546900  90.300003  92.709000  96.962000  94.01840   95.304900   \n",
            "2023-03-01  26323900  90.510002  92.265000  96.494000  94.00460   95.187800   \n",
            "\n",
            "              EWMA_20    EWMA_50   EWMA_100        rsi  MiddleBand  \\\n",
            "date                                                                 \n",
            "2016-01-04  37.630600  36.580861  34.728714  46.880156   37.370038   \n",
            "2016-01-05  37.582829  36.602356  34.776280  47.225828   37.384200   \n",
            "2016-01-06  37.544560  36.625048  34.823934  47.740480   37.396525   \n",
            "2016-01-07  37.427887  36.613066  34.853571  40.664875   37.398400   \n",
            "2016-01-08  37.265565  36.578181  34.870809  36.621121   37.381088   \n",
            "...               ...        ...        ...        ...         ...   \n",
            "2023-02-23  95.954120  95.986734  97.940170  40.486633   95.050250   \n",
            "2023-02-24  95.325156  95.726470  97.770067  37.993145   95.085750   \n",
            "2023-02-27  94.827522  95.505824  97.618185  39.736037   95.176750   \n",
            "2023-02-28  94.396329  95.301674  97.473270  40.218607   95.210501   \n",
            "2023-03-01  94.026203  95.113766  97.335384  40.755040   95.255000   \n",
            "\n",
            "             UpperBand  LowerBand  sent_score  \n",
            "date                                           \n",
            "2016-01-04   38.747735  35.992340      1.5012  \n",
            "2016-01-05   38.739303  36.029098      0.0000  \n",
            "2016-01-06   38.734510  36.058541      3.0243  \n",
            "2016-01-07   38.729956  36.066844      0.0000  \n",
            "2016-01-08   38.781283  35.980892      0.9176  \n",
            "...                ...        ...         ...  \n",
            "2023-02-23  106.582995  83.517506     -7.0512  \n",
            "2023-02-24  106.537032  83.634469    -10.1346  \n",
            "2023-02-27  106.402446  83.951055    -25.0035  \n",
            "2023-02-28  106.367299  84.053702      2.7920  \n",
            "2023-03-01  106.319574  84.190427     -0.4130  \n",
            "\n",
            "[1802 rows x 20 columns]\n"
          ]
        }
      ],
      "source": [
        "import pyspark.pandas as ps\n",
        "\n",
        "#retrieve data from database\n",
        "def return_data(ticker_list, from_date, to_date):\n",
        "    sentiment = spark.read.format(\"jdbc\")\\\n",
        "        .option(\"url\", \"jdbc:postgresql://localhost:5432/financials\") \\\n",
        "        .option(\"driver\", \"org.postgresql.Driver\").option(\"dbtable\", \"sentiment\") \\\n",
        "        .option(\"user\", \"adam\").option(\"password\", \"green\").load()\n",
        "    finance = spark.read.format(\"jdbc\")\\\n",
        "        .option(\"url\", \"jdbc:postgresql://localhost:5432/financials\") \\\n",
        "        .option(\"driver\", \"org.postgresql.Driver\").option(\"dbtable\", \"company_data\") \\\n",
        "        .option(\"user\", \"adam\").option(\"password\", \"green\").load()\n",
        "    full_data = finance.join(sentiment, ['date', 'ticker'], 'leftouter').fillna(0)\n",
        "    df_list = []\n",
        "    for ticker in ticker_list:\n",
        "        working_data = full_data[full_data['ticker'] == ticker]\n",
        "        print(working_data.count())\n",
        "        working_data = working_data.sort('date', ascending = True).filter((working_data.date >= from_date) & (working_data.date<= to_date)).toPandas().set_index('date')\n",
        "        #sorted_data = working_data.toPandas().loc[from_date:to_date,]\n",
        "        print(ticker, working_data.shape)\n",
        "        working_data = working_data[~working_data.index.duplicated()]\n",
        "        print(working_data)\n",
        "        working_data.to_csv('data/'+ticker+'_dataframe.csv')\n",
        "        df_list.append(working_data)\n",
        "return_data(['MSFT', 'GOOG'], \"2016-01-01\", \"2023-03-01\")"
      ]
    },
    {
      "cell_type": "code",
      "execution_count": null,
      "id": "41d4d8b0",
      "metadata": {
        "id": "41d4d8b0"
      },
      "outputs": [],
      "source": [
        "spark.stop()"
      ]
    }
  ],
  "metadata": {
    "kernelspec": {
      "display_name": "Python 3 (ipykernel)",
      "language": "python",
      "name": "python3"
    },
    "language_info": {
      "codemirror_mode": {
        "name": "ipython",
        "version": 3
      },
      "file_extension": ".py",
      "mimetype": "text/x-python",
      "name": "python",
      "nbconvert_exporter": "python",
      "pygments_lexer": "ipython3",
      "version": "3.9.13"
    },
    "colab": {
      "provenance": []
    }
  },
  "nbformat": 4,
  "nbformat_minor": 5
}